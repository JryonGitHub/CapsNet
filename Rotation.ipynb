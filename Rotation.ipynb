{
 "cells": [
  {
   "cell_type": "code",
   "execution_count": 10,
   "metadata": {},
   "outputs": [],
   "source": [
    "from data_loaders import load_mnist\n",
    "import numpy as np\n",
    "import matplotlib.pyplot as plt\n",
    "import os\n",
    "from model import * \n",
    "import torch\n",
    "from PIL import Image\n",
    "import torchvision\n",
    "from torchvision import datasets, transforms\n",
    "import torch\n",
    "from constants import * \n",
    "import torch.nn.functional as functional\n",
    "from tqdm import tqdm"
   ]
  },
  {
   "cell_type": "code",
   "execution_count": 11,
   "metadata": {},
   "outputs": [],
   "source": [
    "def load_mnist(batch_size, rotate=0):\n",
    "  dataset_transform = transforms.Compose([\n",
    "               transforms.RandomRotation([rotate, rotate+1]),\n",
    "               transforms.ToTensor(),\n",
    "               transforms.Normalize((0.1307,), (0.3081,))\n",
    "           ])\n",
    "  \n",
    "  train_dataset = datasets.MNIST('../data', \n",
    "                               train=True, \n",
    "                               download=True, \n",
    "                               transform=dataset_transform)\n",
    "  test_dataset = datasets.MNIST('../data', \n",
    "                                 train=False, \n",
    "                                 download=True, \n",
    "                                 transform=dataset_transform)\n",
    "\n",
    "\n",
    "  train_loader = torch.utils.data.DataLoader(train_dataset, \n",
    "                                             batch_size=batch_size,\n",
    "                                             shuffle=True)\n",
    "  test_loader = torch.utils.data.DataLoader(test_dataset, \n",
    "                                             batch_size=batch_size,\n",
    "                                             shuffle=False)\n",
    "  return train_loader, test_loader\n",
    "\n"
   ]
  },
  {
   "cell_type": "code",
   "execution_count": 4,
   "metadata": {},
   "outputs": [
    {
     "data": {
      "text/plain": [
       "''"
      ]
     },
     "execution_count": 4,
     "metadata": {},
     "output_type": "execute_result"
    }
   ],
   "source": [
    "capsnet = CapsNet(reconstruction_type=\"FC\")\n",
    "capsnet.load_state_dict(torch.load(\"saved_models/model22.pt\"))\n",
    "capsnet.cuda()\n",
    "\"\""
   ]
  },
  {
   "cell_type": "code",
   "execution_count": 5,
   "metadata": {},
   "outputs": [
    {
     "ename": "NameError",
     "evalue": "name 'images' is not defined",
     "output_type": "error",
     "traceback": [
      "\u001b[0;31m\u001b[0m",
      "\u001b[0;31mNameError\u001b[0mTraceback (most recent call last)",
      "\u001b[0;32m<ipython-input-5-f7bc809b58a2>\u001b[0m in \u001b[0;36m<module>\u001b[0;34m()\u001b[0m\n\u001b[0;32m----> 1\u001b[0;31m \u001b[0mplt\u001b[0m\u001b[0;34m.\u001b[0m\u001b[0mimshow\u001b[0m\u001b[0;34m(\u001b[0m\u001b[0mimages\u001b[0m\u001b[0;34m[\u001b[0m\u001b[0;36m1\u001b[0m\u001b[0;34m,\u001b[0m\u001b[0;36m0\u001b[0m\u001b[0;34m]\u001b[0m\u001b[0;34m.\u001b[0m\u001b[0mdata\u001b[0m\u001b[0;34m.\u001b[0m\u001b[0mnumpy\u001b[0m\u001b[0;34m(\u001b[0m\u001b[0;34m)\u001b[0m\u001b[0;34m,\u001b[0m \u001b[0mcmap\u001b[0m\u001b[0;34m=\u001b[0m\u001b[0;34m\"gray\"\u001b[0m\u001b[0;34m)\u001b[0m\u001b[0;34m\u001b[0m\u001b[0m\n\u001b[0m",
      "\u001b[0;31mNameError\u001b[0m: name 'images' is not defined"
     ]
    }
   ],
   "source": [
    "plt.imshow(images[1,0].data.numpy(), cmap=\"gray\")"
   ]
  },
  {
   "cell_type": "code",
   "execution_count": 6,
   "metadata": {},
   "outputs": [
    {
     "data": {
      "text/plain": [
       "tensor([ 7,  2,  1,  0,  4,  1,  4,  9,  5,  9,  0,  6,  9,  0,\n",
       "         1,  5,  9,  7,  3,  4])"
      ]
     },
     "execution_count": 6,
     "metadata": {},
     "output_type": "execute_result"
    }
   ],
   "source": [
    "iter(load_mnist(20)[1]).next()[1]"
   ]
  },
  {
   "cell_type": "code",
   "execution_count": 12,
   "metadata": {
    "scrolled": true
   },
   "outputs": [
    {
     "name": "stderr",
     "output_type": "stream",
     "text": [
      "100%|██████████| 180/180 [00:33<00:00,  5.42it/s]\n"
     ]
    }
   ],
   "source": [
    "j = 16\n",
    "confidences_correct = []\n",
    "confidences_correct_i = []\n",
    "confidences_false = []\n",
    "confidences_false_i = []\n",
    "for i in tqdm(range(0, 360, 2)):\n",
    "  _, test_loader = load_mnist(j+1, rotate=i)\n",
    "  images, targets = iter(test_loader).next()\n",
    "\n",
    "  target = targets[j].item()\n",
    "  output, reconstruction, _ = capsnet(images.cuda())\n",
    "  output = torch.norm(output, dim=2)\n",
    "  pred = output.squeeze().max(dim=1)[1][j].item()\n",
    "  \n",
    "  if pred == target:\n",
    "    confidences_correct.append(output[j,target,0].item())\n",
    "    confidences_correct_i.append(i)\n",
    "  else:\n",
    "    confidences_false.append(output[j,target,0].item())\n",
    "    confidences_false_i.append(i)\n",
    "    \n",
    "# Show Image\n",
    "_, test_loader = load_mnist(j+1, rotate=0)\n",
    "images, targets = iter(test_loader).next()\n",
    "im = images[j, 0].data.numpy()\n",
    "plt.imshow(im, cmap=\"gray\")\n",
    "\n",
    "# Print graph\n",
    "print(targets[j])\n",
    "plt.figure(figsize=(20,10))\n",
    "plt.plot(confidences_correct_i, confidences_correct, '.')\n",
    "plt.plot(confidences_false_i, confidences_false, '.')\n",
    "plt.xlim([0,360])\n",
    "plt.ylim([0,1])\n",
    "plt.plot([86,86], [0,1])\n",
    "plt.plot([360-46,360-46], [0,1])"
   ]
  },
  {
   "cell_type": "code",
   "execution_count": 13,
   "metadata": {},
   "outputs": [
    {
     "name": "stdout",
     "output_type": "stream",
     "text": [
      "tensor(9)\n"
     ]
    },
    {
     "data": {
      "text/plain": [
       "[<matplotlib.lines.Line2D at 0x7fa5359f0be0>]"
      ]
     },
     "execution_count": 13,
     "metadata": {},
     "output_type": "execute_result"
    },
    {
     "data": {
      "image/png": "[encoded data removed]",
      "text/plain": [
       "<Figure size 1440x720 with 1 Axes>"
      ]
     },
     "metadata": {},
     "output_type": "display_data"
    }
   ],
   "source": []
  },
  {
   "cell_type": "code",
   "execution_count": null,
   "metadata": {},
   "outputs": [],
   "source": []
  }
 ],
 "metadata": {
  "kernelspec": {
   "display_name": "Python 3",
   "language": "python",
   "name": "python3"
  },
  "language_info": {
   "codemirror_mode": {
    "name": "ipython",
    "version": 3
   },
   "file_extension": ".py",
   "mimetype": "text/x-python",
   "name": "python",
   "nbconvert_exporter": "python",
   "pygments_lexer": "ipython3",
   "version": "3.6.4"
  }
 },
 "nbformat": 4,
 "nbformat_minor": 2
}
