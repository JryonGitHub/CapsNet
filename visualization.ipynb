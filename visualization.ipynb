{
 "cells": [
  {
   "cell_type": "markdown",
   "metadata": {},
   "source": []
  },
  {
   "cell_type": "code",
   "execution_count": 1,
   "metadata": {},
   "outputs": [],
   "source": [
    "import os.path as path\n",
    "import numpy as np\n",
    "import torch.nn.functional as functional\n",
    "from IPython.display import display, clear_output\n",
    "from ipywidgets import FloatSlider, interactive, VBox\n",
    "import ipywidgets as widgets\n",
    "import matplotlib.pyplot as plt\n",
    "\n",
    "from constants import *\n",
    "from data_loaders import *\n",
    "from model import CapsNet\n",
    "\n",
    "%matplotlib inline\n",
    "\n",
    "DEBUG_MODE = True\n",
    "USE_GPU = True\n",
    "MODEL = \"model1.pt\" # Specifies which model to load\n",
    "RECONSTRUCTION_TYPE = \"FC\" # FC or Conv\n",
    "BATCH_SIZE = 32 # Does not perform training, all it does is to pick a batch of data to reconstruct on"
   ]
  },
  {
   "cell_type": "markdown",
   "metadata": {},
   "source": [
    "Re-run this block to reset your model outputs if you messed it up."
   ]
  },
  {
   "cell_type": "code",
   "execution_count": 2,
   "metadata": {},
   "outputs": [],
   "source": [
    "# Load model\n",
    "capsnet = CapsNet(reconstruction_type=RECONSTRUCTION_TYPE)\n",
    "if USE_GPU:\n",
    "  capsnet.cuda()\n",
    "model_path = path.join(SAVE_DIR, MODEL)\n",
    "capsnet.load_state_dict(torch.load(model_path))\n",
    "\n",
    "_, test_loader = load_mnist(BATCH_SIZE)\n",
    "capsnet.eval()\n",
    "data, target = iter(test_loader).next()\n",
    "target = torch.eye(10).index_select(dim=0, index=target) # One-hot encode target\n",
    "output, reconstruction, masked = capsnet(data.cuda())"
   ]
  },
  {
   "cell_type": "markdown",
   "metadata": {},
   "source": [
    "Here is where you choose which input image to play around with."
   ]
  },
  {
   "cell_type": "code",
   "execution_count": 3,
   "metadata": {},
   "outputs": [
    {
     "name": "stdout",
     "output_type": "stream",
     "text": [
      "Image:25\n",
      "Target:0\n",
      "Prediction:0\n",
      "torch.Size([1, 1, 1, 16, 1])\n",
      "tensor([[[[[-0.3672],\n",
      "           [ 0.1691],\n",
      "           [-0.2342],\n",
      "           [ 0.0666],\n",
      "           [-0.1555],\n",
      "           [ 0.0295],\n",
      "           [ 0.2599],\n",
      "           [-0.0360],\n",
      "           [ 0.0222],\n",
      "           [-0.3071],\n",
      "           [-0.0188],\n",
      "           [-0.2443],\n",
      "           [ 0.1615],\n",
      "           [-0.1646],\n",
      "           [-0.0877],\n",
      "           [-0.5624]]]]], device='cuda:0')\n"
     ]
    }
   ],
   "source": [
    "i = np.random.randint(BATCH_SIZE) # index of chosen image in last batch\n",
    "capsules = output[i:i+1] # capsules that correspond to this specific image\n",
    "\n",
    "# Find prediction\n",
    "classes = torch.sqrt((capsules**2).sum(2))\n",
    "classes = functional.softmax(classes, dim=1)\n",
    "_, prediction = classes.max(dim=1)\n",
    "\n",
    "if DEBUG_MODE:\n",
    "    print(\"Image:{}\".format(i))\n",
    "    print(\"Target:{}\".format(target[i:i+1,:].max(dim=1)[1].item()))\n",
    "    print(\"Prediction:{}\".format(prediction.item()))\n",
    "\n",
    "    print(capsules[:,prediction,:,:].shape)\n",
    "    print(capsules[:,prediction,:,:])"
   ]
  },
  {
   "cell_type": "code",
   "execution_count": 4,
   "metadata": {},
   "outputs": [],
   "source": [
    "# Dirty work here\n",
    "# TODO: Fix problems with capsules and prediction as parameters\n",
    "def reconstruct(prediction,c0,c1,c2,c3,c4,c5,c6,c7,c8,c9,c10,c11,c12,c13,c14,c15):\n",
    "    capsules[:,prediction,0,:] = c0\n",
    "    capsules[:,prediction,1,:] = c1\n",
    "    capsules[:,prediction,2,:] = c2\n",
    "    capsules[:,prediction,3,:] = c3\n",
    "    capsules[:,prediction,4,:] = c4\n",
    "    capsules[:,prediction,5,:] = c5\n",
    "    capsules[:,prediction,6,:] = c6\n",
    "    capsules[:,prediction,7,:] = c7\n",
    "    capsules[:,prediction,8,:] = c8\n",
    "    capsules[:,prediction,9,:] = c9\n",
    "    capsules[:,prediction,10,:] = c10\n",
    "    capsules[:,prediction,11,:] = c11\n",
    "    capsules[:,prediction,12,:] = c12\n",
    "    capsules[:,prediction,13,:] = c13\n",
    "    capsules[:,prediction,14,:] = c14\n",
    "    capsules[:,prediction,15,:] = c15\n",
    "    \n",
    "    reconstruction, _ = capsnet.decoder(capsules, data, target[i:i+1].cuda())\n",
    "    \n",
    "    im = np.squeeze(reconstruction.data.cpu().numpy())\n",
    "    im += abs(im.min())\n",
    "    im /= im.max()\n",
    "    plt.subplot(1,2,1)\n",
    "    plt.title(\"Reconstruction\")\n",
    "    plt.imshow(im, cmap=\"gray\");\n",
    "    im2 = data[i, 0].data.cpu().numpy()\n",
    "    im2 += abs(im.min())\n",
    "    im2 /= im.max()\n",
    "    plt.subplot(1,2,2)\n",
    "    plt.title(\"Input\")\n",
    "    plt.imshow(im2, cmap=\"gray\");\n",
    "    \n",
    "def build_widgets():\n",
    "        return interactive(reconstruct,\n",
    "                prediction=prediction,\n",
    "                c0=FloatSlider(description=\"Capsule 0\",min=MIN, max=MAX, step=STEP, continuous_update=CONTINUOUS_UPDATE, value = capsules[0, prediction,0,0]),\n",
    "                c1=FloatSlider(description=\"Capsule 1\",min=MIN, max=MAX, step=STEP, continuous_update=CONTINUOUS_UPDATE, value = capsules[0, prediction,1,0]),\n",
    "                c2=FloatSlider(description=\"Capsule 2\",min=MIN, max=MAX, step=STEP, continuous_update=CONTINUOUS_UPDATE, value = capsules[0, prediction,2,0]),\n",
    "                c3=FloatSlider(description=\"Capsule 3\",min=MIN, max=MAX, step=STEP, continuous_update=CONTINUOUS_UPDATE, value = capsules[0, prediction,3,0]),\n",
    "                c4=FloatSlider(description=\"Capsule 4\",min=MIN, max=MAX, step=STEP, continuous_update=CONTINUOUS_UPDATE, value = capsules[0, prediction,4,0]),\n",
    "                c5=FloatSlider(description=\"Capsule 5\",min=MIN, max=MAX, step=STEP, continuous_update=CONTINUOUS_UPDATE, value = capsules[0, prediction,5,0]),\n",
    "                c6=FloatSlider(description=\"Capsule 6\",min=MIN, max=MAX, step=STEP, continuous_update=CONTINUOUS_UPDATE, value = capsules[0, prediction,6,0]),\n",
    "                c7=FloatSlider(description=\"Capsule 7\",min=MIN, max=MAX, step=STEP, continuous_update=CONTINUOUS_UPDATE, value = capsules[0, prediction,7,0]),\n",
    "                c8=FloatSlider(description=\"Capsule 8\",min=MIN, max=MAX, step=STEP, continuous_update=CONTINUOUS_UPDATE, value = capsules[0, prediction,8,0]),\n",
    "                c9=FloatSlider(description=\"Capsule 9\",min=MIN, max=MAX, step=STEP, continuous_update=CONTINUOUS_UPDATE, value = capsules[0, prediction,9,0]),\n",
    "                c10=FloatSlider(description=\"Capsule 10\",min=MIN, max=MAX, step=STEP, continuous_update=CONTINUOUS_UPDATE, value = capsules[0, prediction,10,0]),\n",
    "                c11=FloatSlider(description=\"Capsule 11\",min=MIN, max=MAX, step=STEP, continuous_update=CONTINUOUS_UPDATE, value = capsules[0, prediction,11,0]),\n",
    "                c12=FloatSlider(description=\"Capsule 12\",min=MIN, max=MAX, step=STEP, continuous_update=CONTINUOUS_UPDATE, value = capsules[0, prediction,12,0]),\n",
    "                c13=FloatSlider(description=\"Capsule 13\",min=MIN, max=MAX, step=STEP, continuous_update=CONTINUOUS_UPDATE, value = capsules[0, prediction,13,0]),\n",
    "                c14=FloatSlider(description=\"Capsule 14\",min=MIN, max=MAX, step=STEP, continuous_update=CONTINUOUS_UPDATE, value = capsules[0, prediction,14,0]),\n",
    "                c15=FloatSlider(description=\"Capsule 15\",min=MIN, max=MAX, step=STEP, continuous_update=CONTINUOUS_UPDATE, value = capsules[0, prediction,15,0]))"
   ]
  },
  {
   "cell_type": "markdown",
   "metadata": {},
   "source": [
    "Currently all sliders are initialized to zeros, which means the initial reconstruction is not correct at all. You can set debug mode to true, and adjust the parameters according to the model output vector."
   ]
  },
  {
   "cell_type": "code",
   "execution_count": 5,
   "metadata": {},
   "outputs": [
    {
     "data": {
      "application/vnd.jupyter.widget-view+json": {
       "model_id": "279d182b6521402798f182ff45b4611b",
       "version_major": 2,
       "version_minor": 0
      },
      "text/html": [
       "<p>Failed to display Jupyter Widget of type <code>interactive</code>.</p>\n",
       "<p>\n",
       "  If you're reading this message in the Jupyter Notebook or JupyterLab Notebook, it may mean\n",
       "  that the widgets JavaScript is still loading. If this message persists, it\n",
       "  likely means that the widgets JavaScript library is either not installed or\n",
       "  not enabled. See the <a href=\"https://ipywidgets.readthedocs.io/en/stable/user_install.html\">Jupyter\n",
       "  Widgets Documentation</a> for setup instructions.\n",
       "</p>\n",
       "<p>\n",
       "  If you're reading this message in another frontend (for example, a static\n",
       "  rendering on GitHub or <a href=\"https://nbviewer.jupyter.org/\">NBViewer</a>),\n",
       "  it may mean that your frontend doesn't currently support widgets.\n",
       "</p>\n"
      ],
      "text/plain": [
       "interactive(children=(Dropdown(description='prediction', options=(tensor([ 0], device='cuda:0'),), value=tensor([ 0], device='cuda:0')), FloatSlider(value=-0.36716505885124207, description='Capsule 0', max=1.0, min=-1.0), FloatSlider(value=0.16909460723400116, description='Capsule 1', max=1.0, min=-1.0), FloatSlider(value=-0.23415876924991608, description='Capsule 2', max=1.0, min=-1.0), FloatSlider(value=0.06656791269779205, description='Capsule 3', max=1.0, min=-1.0), FloatSlider(value=-0.15550799667835236, description='Capsule 4', max=1.0, min=-1.0), FloatSlider(value=0.02945447713136673, description='Capsule 5', max=1.0, min=-1.0), FloatSlider(value=0.25985491275787354, description='Capsule 6', max=1.0, min=-1.0), FloatSlider(value=-0.036033280193805695, description='Capsule 7', max=1.0, min=-1.0), FloatSlider(value=0.022220604121685028, description='Capsule 8', max=1.0, min=-1.0), FloatSlider(value=-0.3070715069770813, description='Capsule 9', max=1.0, min=-1.0), FloatSlider(value=-0.018808746710419655, description='Capsule 10', max=1.0, min=-1.0), FloatSlider(value=-0.24434009194374084, description='Capsule 11', max=1.0, min=-1.0), FloatSlider(value=0.16150245070457458, description='Capsule 12', max=1.0, min=-1.0), FloatSlider(value=-0.1645868569612503, description='Capsule 13', max=1.0, min=-1.0), FloatSlider(value=-0.08766431361436844, description='Capsule 14', max=1.0, min=-1.0), FloatSlider(value=-0.5623868107795715, description='Capsule 15', max=1.0, min=-1.0), Output()), _dom_classes=('widget-interact',))"
      ]
     },
     "metadata": {},
     "output_type": "display_data"
    }
   ],
   "source": [
    "MIN = -1\n",
    "MAX = 1\n",
    "STEP = 1e-1\n",
    "CONTINUOUS_UPDATE = True\n",
    "\n",
    "# Initial values\n",
    "init = np.squeeze(capsules[:,prediction,:,:])\n",
    "\n",
    "w = build_widgets()\n",
    "display(w)"
   ]
  },
  {
   "cell_type": "code",
   "execution_count": 6,
   "metadata": {},
   "outputs": [],
   "source": [
    "# Experimental improvements for interaction with visualization\n",
    "# CURRENTLY NOT WORKING\n",
    "\n",
    "# def reconstruct(change, prediction, widgets_list):\n",
    "#     for i, widget in enumerate(widgets_list):\n",
    "#         capsules[:,prediction,i,:] = widget.value\n",
    "    \n",
    "#     reconstruction, _ = capsnet.decoder(capsules, data, target[i:i+1].cuda())\n",
    "    \n",
    "#     if DEBUG_MODE:\n",
    "#         print(capsules)\n",
    "#         print(target[i:i+1])\n",
    "#         print(target[i:i+1].max(dim=1)[1].reshape(-1,1))\n",
    "        \n",
    "#     im = np.squeeze(reconstruction.data.cpu().numpy())\n",
    "#     im += abs(im.min())\n",
    "#     im /= im.max()\n",
    "#     plt.subplot(1,2,1)\n",
    "#     plt.title(\"Reconstruction\")\n",
    "#     plt.imshow(im, cmap=\"gray\");\n",
    "#     im2 = data[i, 0].data.cpu().numpy()\n",
    "#     im2 += abs(im.min())\n",
    "#     im2 /= im.max()\n",
    "#     plt.subplot(1,2,2)\n",
    "#     plt.title(\"Input\")\n",
    "#     plt.imshow(im2, cmap=\"gray\");\n",
    "\n",
    "# MIN = -1\n",
    "# MAX = 1\n",
    "# STEP = 1e-1\n",
    "# CAPS_COUNT = 16\n",
    "# CONTINUOUS_UPDATE = True\n",
    "\n",
    "# # Credits to building these widgets: https://stackoverflow.com/questions/37622023\n",
    "# widgets_list = []\n",
    "# for i in range(CAPS_COUNT):\n",
    "#     widgets_list.append(FloatSlider(description=\"Capsule \"+str(i),\n",
    "#                                     min=MIN, max=MAX, step=STEP, continuous_update=CONTINUOUS_UPDATE))\n",
    "# for widget in widgets_list:\n",
    "#     widget.observe(lambda change:reconstruct(change, prediction, widgets_list))\n",
    "    \n",
    "# w = VBox(children=widgets_list)"
   ]
  },
  {
   "cell_type": "code",
   "execution_count": null,
   "metadata": {},
   "outputs": [],
   "source": []
  }
 ],
 "metadata": {
  "kernelspec": {
   "display_name": "Python 3",
   "language": "python",
   "name": "python3"
  },
  "language_info": {
   "codemirror_mode": {
    "name": "ipython",
    "version": 3
   },
   "file_extension": ".py",
   "mimetype": "text/x-python",
   "name": "python",
   "nbconvert_exporter": "python",
   "pygments_lexer": "ipython3",
   "version": "3.6.4"
  }
 },
 "nbformat": 4,
 "nbformat_minor": 2
}
